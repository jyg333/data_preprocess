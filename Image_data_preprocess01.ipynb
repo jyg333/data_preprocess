{
  "nbformat": 4,
  "nbformat_minor": 0,
  "metadata": {
    "colab": {
      "name": "Image_data_preprocess01.ipynb",
      "provenance": [],
      "collapsed_sections": []
    },
    "kernelspec": {
      "name": "python3",
      "display_name": "Python 3"
    },
    "language_info": {
      "name": "python"
    }
  },
  "cells": [
    {
      "cell_type": "markdown",
      "source": [
        "## **Image Data load & pre processing**\n"
      ],
      "metadata": {
        "id": "Z9NU4kmyUy3e"
      }
    },
    {
      "cell_type": "code",
      "execution_count": 39,
      "metadata": {
        "colab": {
          "base_uri": "https://localhost:8080/",
          "height": 54
        },
        "id": "RQmxYG1rUruP",
        "outputId": "a9ac50ab-2765-4065-e428-161d1dae98ec"
      },
      "outputs": [
        {
          "output_type": "execute_result",
          "data": {
            "application/vnd.google.colaboratory.intrinsic+json": {
              "type": "string"
            },
            "text/plain": [
              "'argparse :argparse란 프로그램에 필요한 인자를 사용자 친화적인 명령행 인터페이스로 쉽게 작성하도록 돕는 라이브러리 이다. \\n즉, command 창에서 프로그램 내의 인자를 조절하게끔 도와준다'"
            ]
          },
          "metadata": {},
          "execution_count": 39
        }
      ],
      "source": [
        "import os\n",
        "import torch\n",
        "import argparse\n",
        "import numpy as np\n",
        "import torchvision\n",
        "\n",
        "import matplotlib.pyplot as plt\n",
        "\n",
        "\n",
        "\"\"\"argparse :argparse란 프로그램에 필요한 인자를 사용자 친화적인 명령행 인터페이스로 쉽게 작성하도록 돕는 라이브러리 이다. \n",
        "즉, command 창에서 프로그램 내의 인자를 조절하게끔 도와준다\"\"\""
      ]
    },
    {
      "cell_type": "code",
      "source": [
        "from torch.utils.data.dataset import T\n",
        "train_data = torchvision.datasets.MNIST(root = './data',\n",
        "                                        train =True, download=True, \n",
        "                                        transform = torchvision.transforms.ToTensor())\n",
        "test_data = torchvision.datasets.MNIST(root = './data',\n",
        "                                        train =False, download=True, \n",
        "                                        transform = torchvision.transforms.ToTensor())\n",
        "train_loader = torch.utils.data.DataLoader(train_data, batch_size = 32, shuffle =True)\n",
        "test_loader = torch.utils.data.DataLoader(test_data, batch_size = 32, shuffle =False)"
      ],
      "metadata": {
        "id": "HXrCAT7iVnyh"
      },
      "execution_count": 10,
      "outputs": []
    },
    {
      "cell_type": "code",
      "source": [
        "#show MNIST Image\n",
        "def show_mnist():\n",
        "  for images, _ in train_loader:\n",
        "    images_to_show = images.squeeze().numpy()\n",
        "    fig = plt.figure(figsize = (16,2))\n",
        "    for i in range(8):\n",
        "      fig.add_subplot(1,8,i+1)\n",
        "      plt.imshow(images_to_show[i], cmap = 'gray')\n",
        "      plt.xticks([])\n",
        "      plt.yticks([])\n",
        "    fig.show()\n",
        "    break\n",
        "show_mnist()"
      ],
      "metadata": {
        "colab": {
          "base_uri": "https://localhost:8080/",
          "height": 129
        },
        "id": "404399cMa_QS",
        "outputId": "04871666-6940-4744-95be-2b2babcac6ae"
      },
      "execution_count": 40,
      "outputs": [
        {
          "output_type": "display_data",
          "data": {
            "image/png": "[encoded data removed]",
            "text/plain": [
              "<Figure size 1152x144 with 8 Axes>"
            ]
          },
          "metadata": {}
        }
      ]
    },
    {
      "cell_type": "markdown",
      "source": [
        ""
      ],
      "metadata": {
        "id": "JkiXT_XrUx1L"
      }
    },
    {
      "cell_type": "code",
      "source": [
        "# 서로 다른 사이즈의 이미지를 받아오기 위해서는 전처리를 해줘야 합니다.\n",
        "transform = torchvision.transforns.Compose([\n",
        "                    torchvision.transforms.Resize((224,224)),\n",
        "                    torchvision.tranforms.ToTensor()\n",
        "])\n",
        "path = ''\n",
        "train_data = torchvision.datasets.ImageFolder(path,transform=transform)                       \n",
        "train_loader = torch.utils.data.DataLoader(train_data, batch_size=10, shuffle=False)"
      ],
      "metadata": {
        "id": "axPzaTa4iOMt"
      },
      "execution_count": null,
      "outputs": []
    },
    {
      "cell_type": "code",
      "source": [
        "# 큰 사진의 경우 이를 cropping해서 사용한다면 데이터 증대의 효과를 누릴 수 있습니다.\n",
        "#RandomReizeCrop :  crop has a random area (H * W) and a random aspect ratio. \n",
        "transform_crop = torchvision.transform.Compose([\n",
        "                        torchvision.transforms.RandomResizedCrop((224,224)),\n",
        "                        torchvision.transforms.ToTensor()\n",
        "])\n",
        "path = ''\n",
        "train_data = torchvision.datasets.ImageFolder(path,transform=transform)                       \n",
        "train_loader = torch.utils.data.DataLoader(train_data, batch_size=10, shuffle=False)"
      ],
      "metadata": {
        "id": "TOGzsuFSi3eU"
      },
      "execution_count": null,
      "outputs": []
    }
  ]
}